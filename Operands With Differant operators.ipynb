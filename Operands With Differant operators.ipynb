{
 "cells": [
  {
   "cell_type": "code",
   "execution_count": 1,
   "metadata": {},
   "outputs": [
    {
     "name": "stdout",
     "output_type": "stream",
     "text": [
      "9\n"
     ]
    }
   ],
   "source": [
    "#Arithmetic Operator\n",
    "a=4 \n",
    "b=5\n",
    "print(a + b)"
   ]
  },
  {
   "cell_type": "code",
   "execution_count": 2,
   "metadata": {},
   "outputs": [
    {
     "name": "stdout",
     "output_type": "stream",
     "text": [
      "('a > b  is', False)\n"
     ]
    }
   ],
   "source": [
    "#Comparason Oprator\n",
    "a = 4\n",
    "b = 5\n",
    "print(('a > b  is',a>b))"
   ]
  },
  {
   "cell_type": "code",
   "execution_count": 3,
   "metadata": {},
   "outputs": [
    {
     "name": "stdout",
     "output_type": "stream",
     "text": [
      "('Line 1 - Value of a : ', 4)\n",
      "('Line 2 - Value of b : ', 5)\n"
     ]
    }
   ],
   "source": [
    "#Assignment Operators\n",
    "a = 4\n",
    "b = 5\n",
    "print((\"Line 1 - Value of a : \", a))\n",
    "print((\"Line 2 - Value of b : \", b))"
   ]
  },
  {
   "cell_type": "code",
   "execution_count": 6,
   "metadata": {},
   "outputs": [
    {
     "name": "stdout",
     "output_type": "stream",
     "text": [
      "('a - Result of + is ', 13)\n"
     ]
    }
   ],
   "source": [
    "#Assignment Operators\n",
    "a = 4\n",
    "b = 5\n",
    "c = a + b\n",
    "c += a\n",
    "print((\"a - Result of + is \", res))"
   ]
  },
  {
   "cell_type": "code",
   "execution_count": 7,
   "metadata": {},
   "outputs": [
    {
     "name": "stdout",
     "output_type": "stream",
     "text": [
      "('a and b is', False)\n",
      "('a or b is', True)\n",
      "('not a is', False)\n"
     ]
    }
   ],
   "source": [
    "#Logical Operators\n",
    "a = True\n",
    "b = False\n",
    "print(('a and b is',a and b))\n",
    "print(('a or b is',a or b))\n",
    "print(('not a is',not a))"
   ]
  },
  {
   "cell_type": "code",
   "execution_count": 8,
   "metadata": {},
   "outputs": [
    {
     "name": "stdout",
     "output_type": "stream",
     "text": [
      "Line 1 - a is not available in the given list\n",
      "Line 2 - b is not available in the given list\n"
     ]
    }
   ],
   "source": [
    "#Membership Operators\n",
    "a = 6\n",
    "b = 9\n",
    "list = [1, 2, 3, 4, 5 ];\n",
    "if ( a in list ):\n",
    "   print(\"Line 1 - a is available in the given list\")\n",
    "else:\n",
    "   print(\"Line 1 - a is not available in the given list\")\n",
    "if ( b not in list ):\n",
    "   print(\"Line 2 - b is not available in the given list\")\n",
    "else:\n",
    "   print(\"Line 2 - b is available in the given list\")"
   ]
  },
  {
   "cell_type": "code",
   "execution_count": 12,
   "metadata": {},
   "outputs": [
    {
     "name": "stdout",
     "output_type": "stream",
     "text": [
      "a & b  SAME identity\n",
      "a & b have DIFFERENT identity\n"
     ]
    }
   ],
   "source": [
    "#Identity Operators\n",
    "a = 10\n",
    "b = 10\n",
    "if ( a is b ): \n",
    "    print(\"a & b  SAME identity\")\n",
    "b=30\n",
    "if ( a is not b ):\n",
    "    print(\"a & b have DIFFERENT identity\")"
   ]
  },
  {
   "cell_type": "code",
   "execution_count": 13,
   "metadata": {},
   "outputs": [
    {
     "name": "stdout",
     "output_type": "stream",
     "text": [
      "Value of (a+b) * c/ d is  0\n"
     ]
    }
   ],
   "source": [
    "#Precedence Operator\n",
    "a = 7\n",
    "b = 4\n",
    "c = 9\n",
    "d = 1\n",
    "e = 0\n",
    "f = (a+b) * c / d;   \n",
    "print(\"Value of (a+b) * c/ d is \",  e)"
   ]
  },
  {
   "cell_type": "code",
   "execution_count": 19,
   "metadata": {},
   "outputs": [],
   "source": []
  },
  {
   "cell_type": "code",
   "execution_count": 15,
   "metadata": {},
   "outputs": [
    {
     "ename": "SyntaxError",
     "evalue": "Missing parentheses in call to 'print'. Did you mean print(\"Line 1 - Value of c is \", c)? (<ipython-input-15-331baf06e4a5>, line 5)",
     "output_type": "error",
     "traceback": [
      "\u001b[1;36m  File \u001b[1;32m\"<ipython-input-15-331baf06e4a5>\"\u001b[1;36m, line \u001b[1;32m5\u001b[0m\n\u001b[1;33m    print \"Line 1 - Value of c is \", c\u001b[0m\n\u001b[1;37m                                  ^\u001b[0m\n\u001b[1;31mSyntaxError\u001b[0m\u001b[1;31m:\u001b[0m Missing parentheses in call to 'print'. Did you mean print(\"Line 1 - Value of c is \", c)?\n"
     ]
    }
   ],
   "source": []
  },
  {
   "cell_type": "code",
   "execution_count": null,
   "metadata": {},
   "outputs": [],
   "source": []
  }
 ],
 "metadata": {
  "kernelspec": {
   "display_name": "Python 3",
   "language": "python",
   "name": "python3"
  },
  "language_info": {
   "codemirror_mode": {
    "name": "ipython",
    "version": 3
   },
   "file_extension": ".py",
   "mimetype": "text/x-python",
   "name": "python",
   "nbconvert_exporter": "python",
   "pygments_lexer": "ipython3",
   "version": "3.7.4"
  }
 },
 "nbformat": 4,
 "nbformat_minor": 2
}
